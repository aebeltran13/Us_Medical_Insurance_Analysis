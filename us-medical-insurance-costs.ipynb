{
 "cells": [
  {
   "cell_type": "markdown",
   "metadata": {},
   "source": [
    "# U.S. Medical Insurance Costs"
   ]
  },
  {
   "cell_type": "markdown",
   "metadata": {},
   "source": [
    "## Project Goals\n",
    "The objective of this project is to conduct a descriptive and exploratory analysis on the US Medical Insurance Costs dataset with the aim of identifying underlying patterns that may have a bearing on the accumulation of insurance charges."
   ]
  },
  {
   "cell_type": "markdown",
   "metadata": {},
   "source": [
    "## Data Description\n",
    "The US Medical Insurance Costs consists of seven columns.\n",
    "- Age\n",
    "- Sex\n",
    "- BMI\n",
    "- Number of Children\n",
    "- Smoker Boolean\n",
    "- Region\n",
    "- Charges"
   ]
  },
  {
   "cell_type": "markdown",
   "metadata": {},
   "source": [
    "## Analysis\n",
    "In order to gain a better understanding of the US Insurance cost dataset, I conducted both descriptive and exploratory analyses. Descriptive analysis involved summarizing and visualizing key features of the dataset, including central tendencies, variability, and distribution of variables. Exploratory analysis involved digging deeper into the data to uncover potential relationships, patterns, and anomalies that could shed light on factors that contribute to insurance charges. The results of these analyses provide valuable insights into the underlying dynamics of the dataset and can inform future decision-making processes."
   ]
  },
  {
   "cell_type": "markdown",
   "metadata": {},
   "source": [
    "## Implementation"
   ]
  },
  {
   "cell_type": "markdown",
   "metadata": {},
   "source": [
    "### Loading the Dataset"
   ]
  },
  {
   "cell_type": "code",
   "execution_count": 1,
   "metadata": {},
   "outputs": [],
   "source": [
    "import csv\n",
    "\n",
    "# Initialize empty list to store data\n",
    "data_list = []\n",
    "\n",
    "# Open the CSV file and read data into list\n",
    "with open('insurance.csv', mode='r') as csv_file:\n",
    "    csv_reader = csv.DictReader(csv_file)\n",
    "    for row in csv_reader:\n",
    "        # Convert string values to their appropriate data type if needed\n",
    "        # ! We dont do this to sex and region because those values will remain as strings\n",
    "        row['age'] = int(row['age'])\n",
    "        row['bmi'] = float(row['bmi'])\n",
    "        row['children'] = int(row['children'])\n",
    "        row['smoker'] = True if row['smoker'] == 'yes' else False\n",
    "        row['charges'] = float(row['charges'])\n",
    "        \n",
    "        # Append current row to the list\n",
    "        data_list.append(row)"
   ]
  },
  {
   "cell_type": "markdown",
   "metadata": {},
   "source": [
    "### Descriptive Analysis"
   ]
  },
  {
   "cell_type": "markdown",
   "metadata": {},
   "source": [
    "To facilitate easy access to the total number of rows in the dataset, a variable will be created to store this information."
   ]
  },
  {
   "cell_type": "code",
   "execution_count": 3,
   "metadata": {},
   "outputs": [],
   "source": [
    "total = len(data_list)"
   ]
  },
  {
   "cell_type": "markdown",
   "metadata": {},
   "source": [
    "To facilitate efficient data manipulation and obtain statistical metrics, separate variables will be created for each numeric column of the dataset."
   ]
  },
  {
   "cell_type": "code",
   "execution_count": 4,
   "metadata": {},
   "outputs": [],
   "source": [
    "# Extract the numeric columns from data_list\n",
    "ages = [row['age'] for row in data_list]\n",
    "bmis = [row['bmi'] for row in data_list]\n",
    "num_children = [row['children'] for row in data_list]\n",
    "num_charge = [row['charges'] for row in data_list]"
   ]
  },
  {
   "cell_type": "markdown",
   "metadata": {},
   "source": [
    "#### Averages"
   ]
  },
  {
   "cell_type": "code",
   "execution_count": 5,
   "metadata": {},
   "outputs": [
    {
     "name": "stdout",
     "output_type": "stream",
     "text": [
      "Age avg: 39.21 | std dev: 14.04\n",
      "BMI avg: 30.66 | std dev: 6.1\n",
      "Children avg: 1.0 | std dev: 1.21\n",
      "Charges avg: 13270.42  | std dev: 12105.48\n"
     ]
    }
   ],
   "source": [
    "def get_avg(numbers):\n",
    "    return sum(numbers)/total\n",
    "\n",
    "def get_std_dev(numbers, avg):\n",
    "    # Calculate the sum of the squared differences from the mean\n",
    "    squared_differences = [(x - avg) ** 2 for x in numbers]\n",
    "    sum_squared_differences = sum(squared_differences)\n",
    "\n",
    "    # Calculate the variance and standard deviation\n",
    "    variance = sum_squared_differences / len(numbers)\n",
    "    stdev = variance ** 0.5\n",
    "\n",
    "    return stdev\n",
    "\n",
    "age_avg = get_avg(ages)\n",
    "bmi_avg = get_avg(bmis)\n",
    "children_avg = get_avg(num_children)\n",
    "charge_avg = get_avg(num_charge)\n",
    "\n",
    "age_std_dev = get_std_dev(ages, age_avg)\n",
    "bmi_std_dev = get_std_dev(bmis, bmi_avg)\n",
    "children_std_dev = get_std_dev(num_children, children_avg)\n",
    "charge_std_dev = get_std_dev(num_charge, charge_avg)\n",
    "\n",
    "print(f\"Age avg: {round(age_avg, 2)} | std dev: {round(age_std_dev, 2)}\")\n",
    "print(f\"BMI avg: {round(bmi_avg, 2)} | std dev: {round(bmi_std_dev, 2)}\")\n",
    "print(f\"Children avg: {round(children_avg, 0)} | std dev: {round(children_std_dev, 2)}\")\n",
    "print(f\"Charges avg: {round(charge_avg,2)}  | std dev: {round(charge_std_dev, 2)}\")"
   ]
  },
  {
   "cell_type": "markdown",
   "metadata": {},
   "source": [
    "#### Ranges"
   ]
  },
  {
   "cell_type": "code",
   "execution_count": 7,
   "metadata": {},
   "outputs": [
    {
     "name": "stdout",
     "output_type": "stream",
     "text": [
      "Age\n",
      " Min: 18 | Max: 64 | Median: 39\n",
      "BMI\n",
      " Min: 15.96 | Max: 53.13 | Median: 30\n",
      "Children\n",
      " Min: 0 | Max: 5 | Median: 1\n",
      "Charges\n",
      " Min: 1121.8739 | Max: 63770.42801 | Median: 9382\n"
     ]
    }
   ],
   "source": [
    "def median(numbers):\n",
    "    sorted_nums = sorted(numbers)\n",
    "    n = len(sorted_nums)\n",
    "    midpoint = n // 2\n",
    "    if n % 2 == 1:\n",
    "        return sorted_nums[midpoint]\n",
    "    else:\n",
    "        lo = midpoint - 1\n",
    "        hi = midpoint\n",
    "        return (sorted_nums[lo] + sorted_nums[hi]) / 2\n",
    "\n",
    "ages_median = median(ages)\n",
    "bmis_median = median(bmis)\n",
    "children_median = median(num_children)\n",
    "charges_median = median(num_charge)\n",
    "\n",
    "print(f\"Age\\n Min: {min(ages)} | Max: {max(ages)} | Median: {int(ages_median)}\")\n",
    "print(f\"BMI\\n Min: {min(bmis)} | Max: {max(bmis)} | Median: {int(bmis_median)}\")\n",
    "print(f\"Children\\n Min: {min(num_children)} | Max: {max(num_children)} | Median: {int(children_median)}\")\n",
    "print(f\"Charges\\n Min: {min(num_charge)} | Max: {max(num_charge)} | Median: {int(charges_median)}\")"
   ]
  },
  {
   "cell_type": "markdown",
   "metadata": {},
   "source": [
    "#### Ratios"
   ]
  },
  {
   "cell_type": "code",
   "execution_count": 13,
   "metadata": {},
   "outputs": [
    {
     "name": "stdout",
     "output_type": "stream",
     "text": [
      "southwest: 325\n",
      "southeast: 364\n",
      "northwest: 325\n",
      "northeast: 324\n"
     ]
    }
   ],
   "source": [
    "# Initialize an empty dictionary to store the counts\n",
    "region_counts = {}\n",
    "\n",
    "# Iterate over the data_list and count the rows for each region\n",
    "for row in data_list:\n",
    "    region = row['region']\n",
    "    if region in region_counts:\n",
    "        region_counts[region] += 1\n",
    "    else:\n",
    "        region_counts[region] = 1\n",
    "\n",
    "# Print the counts for each region\n",
    "for region, count in region_counts.items():\n",
    "    print(f\"{region}: {count}\")"
   ]
  },
  {
   "cell_type": "code",
   "execution_count": 10,
   "metadata": {},
   "outputs": [
    {
     "name": "stdout",
     "output_type": "stream",
     "text": [
      "Smoker\n",
      "True: 274\n",
      "Smoker\n",
      "False: 1064\n"
     ]
    }
   ],
   "source": [
    "# Intitialize an empty dictionary to store the counts of smokers\n",
    "smoker_counts = {}\n",
    "\n",
    "# Iterate over the data_list and count the rows for each region\n",
    "for row in data_list:\n",
    "    smoker = row['smoker']\n",
    "    if smoker in smoker_counts:\n",
    "        smoker_counts[smoker] += 1\n",
    "    else:\n",
    "        smoker_counts[smoker] = 1\n",
    "        \n",
    "# Print the counts for smokers vs non-smokers\n",
    "for smoker, count in smoker_counts.items():\n",
    "    print(f\"Smoker\\n{smoker}: {count}\")"
   ]
  },
  {
   "cell_type": "code",
   "execution_count": 12,
   "metadata": {},
   "outputs": [
    {
     "name": "stdout",
     "output_type": "stream",
     "text": [
      "female: 662\n",
      "male: 676\n"
     ]
    }
   ],
   "source": [
    "# Initialize an empty dictionary to store the counts\n",
    "gender_counts = {}\n",
    "\n",
    "# Iterate over the data_list and count the rows for each gender\n",
    "for row in data_list:\n",
    "    gender = row['sex']\n",
    "    if gender in gender_counts:\n",
    "        gender_counts[gender] += 1\n",
    "    else:\n",
    "        gender_counts[gender] = 1\n",
    "\n",
    "# Print the counts for each gender\n",
    "for gender, count in gender_counts.items():\n",
    "    print(f\"{gender}: {count}\")"
   ]
  },
  {
   "cell_type": "markdown",
   "metadata": {},
   "source": [
    "### Exploratory Analysis"
   ]
  },
  {
   "cell_type": "code",
   "execution_count": 18,
   "metadata": {},
   "outputs": [
    {
     "name": "stdout",
     "output_type": "stream",
     "text": [
      "Smoker average charges: 32050.23\n",
      "Non Smoker average charges: 8434.27\n",
      "Smoker average debt is 3.8 times bigger than the Non Smoker average. \n"
     ]
    }
   ],
   "source": [
    "# Initialize an empty variable storing the average values of smoker vs non-smoker debts\n",
    "smoker_debt_sum = 0\n",
    "non_smoker_debt_sum = 0\n",
    "\n",
    "for row in data_list:\n",
    "    if row['smoker'] is True:\n",
    "        smoker_debt_sum += row['charges']\n",
    "    else:\n",
    "        non_smoker_debt_sum += row['charges']\n",
    "        \n",
    "smoker_debt_avg = smoker_debt_sum / smoker_counts[True]\n",
    "non_smoker_debt_avg = non_smoker_debt_sum / smoker_counts[False]\n",
    "\n",
    "print(f\"Smoker average charges: {round(smoker_debt_avg,2)}\")\n",
    "print(f\"Non Smoker average charges: {round(non_smoker_debt_avg, 2)}\")\n",
    "\n",
    "smoker_debt_avg_difference = smoker_debt_avg/non_smoker_debt_avg\n",
    "print(f\"Smoker average debt is {round(smoker_debt_avg_difference,2)} times bigger than the Non Smoker average. \")"
   ]
  },
  {
   "cell_type": "markdown",
   "metadata": {},
   "source": [
    "This shows that people who smoke are usually more likely to build up a large medical debt."
   ]
  },
  {
   "cell_type": "code",
   "execution_count": 20,
   "metadata": {},
   "outputs": [
    {
     "name": "stdout",
     "output_type": "stream",
     "text": [
      "Number of Children: 0 - Average Charges: 12365.98\n",
      "Number of Children: 1 - Average Charges: 12731.17\n",
      "Number of Children: 3 - Average Charges: 15355.32\n",
      "Number of Children: 2 - Average Charges: 15073.56\n",
      "Number of Children: 5 - Average Charges: 8786.04\n",
      "Number of Children: 4 - Average Charges: 13850.66\n"
     ]
    }
   ],
   "source": [
    "# Initialize an empty dictionary to store the sum of charges and count for each number of children\n",
    "charges_by_children = {}\n",
    "\n",
    "# Iterate over the data_list and accumulate the charges for each number of children\n",
    "for row in data_list:\n",
    "    children = row['children']\n",
    "    charge = row['charges']\n",
    "    if children in charges_by_children:\n",
    "        charges_by_children[children]['sum'] += charge\n",
    "        charges_by_children[children]['count'] += 1\n",
    "    else:\n",
    "        charges_by_children[children] = {'sum': charge, 'count': 1}\n",
    "\n",
    "# Calculate and print the average charges for each number of children\n",
    "for children, data in charges_by_children.items():\n",
    "    average_charge = data['sum'] / data['count']\n",
    "    print(f\"Number of Children: {children} - Average Charges: {round(average_charge,2)}\")"
   ]
  },
  {
   "cell_type": "code",
   "execution_count": 22,
   "metadata": {},
   "outputs": [
    {
     "name": "stdout",
     "output_type": "stream",
     "text": [
      "Gender: female - Average Charges: 12569.58\n",
      "Gender: male - Average Charges: 13956.75\n"
     ]
    }
   ],
   "source": [
    "# Initialize an empty dictionary to store the sum of charges and count for each gender\n",
    "charges_by_gender = {}\n",
    "\n",
    "# Iterate over the data_list and accumulate the charges for each gender\n",
    "for row in data_list:\n",
    "    gender = row['sex']\n",
    "    charge = row['charges']\n",
    "    if gender in charges_by_gender:\n",
    "        charges_by_gender[gender]['sum'] += charge\n",
    "        charges_by_gender[gender]['count'] += 1\n",
    "    else:\n",
    "        charges_by_gender[gender] = {'sum': charge, 'count': 1}\n",
    "\n",
    "# Calculate and print the average charges for each gender\n",
    "for gender, data in charges_by_gender.items():\n",
    "    average_charge = data['sum'] / data['count']\n",
    "    print(f\"Gender: {gender} - Average Charges: {round(average_charge,2)}\")"
   ]
  },
  {
   "cell_type": "code",
   "execution_count": 24,
   "metadata": {},
   "outputs": [
    {
     "name": "stdout",
     "output_type": "stream",
     "text": [
      "BMI Range: Underweight - Average Charges: 8852.2\n",
      "BMI Range: Normal Weight - Average Charges: 10379.5\n",
      "BMI Range: Overweight - Average Charges: 11017.6\n",
      "BMI Range: Obese - Average Charges: 15552.34\n"
     ]
    }
   ],
   "source": [
    "# Define the BMI ranges\n",
    "bmi_ranges = {\n",
    "    \"Underweight\": (0, 18.5),\n",
    "    \"Normal Weight\": (18.5, 24.9),\n",
    "    \"Overweight\": (25, 29.9),\n",
    "    \"Obese\": (30, float(\"inf\"))\n",
    "}\n",
    "\n",
    "# Initialize an empty dictionary to store the sum of charges and count for each BMI range\n",
    "charges_by_bmi_range = {bmi_range: {\"sum\": 0, \"count\": 0} for bmi_range in bmi_ranges}\n",
    "\n",
    "# Iterate over the data_list and accumulate the charges for each BMI range\n",
    "for row in data_list:\n",
    "    bmi = row['bmi']\n",
    "    charge = row['charges']\n",
    "    \n",
    "    for bmi_range, (min_bmi, max_bmi) in bmi_ranges.items():\n",
    "        if min_bmi <= bmi < max_bmi:\n",
    "            charges_by_bmi_range[bmi_range]['sum'] += charge\n",
    "            charges_by_bmi_range[bmi_range]['count'] += 1\n",
    "            break\n",
    "\n",
    "# Calculate and print the average charges for each BMI range\n",
    "for bmi_range, data in charges_by_bmi_range.items():\n",
    "    average_charge = data['sum'] / data['count']\n",
    "    print(f\"BMI Range: {bmi_range} - Average Charges: {round(average_charge,2)}\")"
   ]
  },
  {
   "cell_type": "code",
   "execution_count": 26,
   "metadata": {},
   "outputs": [
    {
     "name": "stdout",
     "output_type": "stream",
     "text": [
      "Region: southwest - Average Charges: 12346.94\n",
      "Region: southeast - Average Charges: 14735.41\n",
      "Region: northwest - Average Charges: 12417.58\n",
      "Region: northeast - Average Charges: 13406.38\n"
     ]
    }
   ],
   "source": [
    "# Initialize an empty dictionary to store the sum of charges and count for each region\n",
    "charges_by_region = {}\n",
    "\n",
    "# Iterate over the data_list and accumulate the charges for each region\n",
    "for row in data_list:\n",
    "    region = row['region']\n",
    "    charge = row['charges']\n",
    "    if region in charges_by_region:\n",
    "        charges_by_region[region]['sum'] += charge\n",
    "        charges_by_region[region]['count'] += 1\n",
    "    else:\n",
    "        charges_by_region[region] = {'sum': charge, 'count': 1}\n",
    "\n",
    "# Calculate and print the average charges for each region\n",
    "for region, data in charges_by_region.items():\n",
    "    average_charge = data['sum'] / data['count']\n",
    "    print(f\"Region: {region} - Average Charges: {round(average_charge,2)}\")"
   ]
  },
  {
   "cell_type": "markdown",
   "metadata": {},
   "source": [
    "## Conclusion"
   ]
  },
  {
   "cell_type": "markdown",
   "metadata": {},
   "source": [
    "Based on the analysis conducted on the US Medical Insurance Costs dataset, several key findings have emerged regarding the factors influencing medical insurance charges. The investigation focused on variables such as smoking, BMI, gender, number of children, and region. The results indicate that smoking and BMI are significant contributors to higher medical insurance charges, whereas gender, number of children, and region do not exhibit substantial effects.\n",
    "\n",
    "Firstly, smoking emerged as a major factor affecting medical insurance charges. Individuals classified as smokers were found to incur significantly higher insurance costs compared to non-smokers. This finding emphasizes the importance of smoking cessation programs and policies to mitigate the financial burden associated with medical insurance.\n",
    "\n",
    "Secondly, BMI (Body Mass Index) demonstrated a strong correlation with medical insurance charges. Higher BMI values were found to be associated with increased insurance costs. This highlights the significance of maintaining a healthy weight and adopting lifestyle choices that promote overall well-being, thereby potentially reducing insurance charges.\n",
    "\n",
    "In contrast, the analysis revealed that gender, number of children, and region did not exhibit substantial impacts on medical insurance charges. These variables showed limited or no discernible correlation with the cost of insurance coverage. It is worth noting that this analysis is based on the specific dataset examined, and further research may be required to investigate the influence of these factors in different contexts or datasets.\n",
    "\n",
    "Overall, the findings suggest that addressing smoking habits and promoting healthy BMI levels can play a crucial role in managing and potentially reducing medical insurance charges. By prioritizing interventions and policies targeting smoking cessation and weight management, individuals and healthcare systems can work towards mitigating the financial burden associated with medical insurance, ultimately fostering better health outcomes and improved affordability for insurance beneficiaries."
   ]
  }
 ],
 "metadata": {
  "kernelspec": {
   "display_name": "Python 3 (ipykernel)",
   "language": "python",
   "name": "python3"
  },
  "language_info": {
   "codemirror_mode": {
    "name": "ipython",
    "version": 3
   },
   "file_extension": ".py",
   "mimetype": "text/x-python",
   "name": "python",
   "nbconvert_exporter": "python",
   "pygments_lexer": "ipython3",
   "version": "3.10.9"
  }
 },
 "nbformat": 4,
 "nbformat_minor": 4
}
